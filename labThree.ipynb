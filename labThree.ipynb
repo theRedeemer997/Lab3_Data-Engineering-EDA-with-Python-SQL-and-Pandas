{
 "cells": [
  {
   "cell_type": "markdown",
   "id": "7dde5cb2",
   "metadata": {},
   "source": [
    "# **`Lab3 - Data Engineering & EDA with Python, SQL, and Pandas`**\n",
    "\n",
    "##### **Name** - Manu Mathew\n",
    "##### **CourseID** - PROG8245\n",
    "##### **Course** - Machine Learning Programming\n",
    "##### **Student ID** - 8990691\n",
    "\n",
    "---"
   ]
  },
  {
   "cell_type": "markdown",
   "id": "f631bbfb",
   "metadata": {},
   "source": [
    "**Install required packages**"
   ]
  },
  {
   "cell_type": "code",
   "execution_count": 4,
   "id": "9d25a06d",
   "metadata": {},
   "outputs": [
    {
     "name": "stdout",
     "output_type": "stream",
     "text": [
      "Requirement already satisfied: psycopg2-binary in ./lib/python3.13/site-packages (2.9.10)\n",
      "Requirement already satisfied: pandas in ./lib/python3.13/site-packages (2.2.3)\n",
      "Requirement already satisfied: faker in ./lib/python3.13/site-packages (37.3.0)\n",
      "Requirement already satisfied: numpy>=1.26.0 in ./lib/python3.13/site-packages (from pandas) (2.2.6)\n",
      "Requirement already satisfied: python-dateutil>=2.8.2 in ./lib/python3.13/site-packages (from pandas) (2.9.0.post0)\n",
      "Requirement already satisfied: pytz>=2020.1 in ./lib/python3.13/site-packages (from pandas) (2025.2)\n",
      "Requirement already satisfied: tzdata>=2022.7 in ./lib/python3.13/site-packages (from pandas) (2025.2)\n",
      "Requirement already satisfied: six>=1.5 in ./lib/python3.13/site-packages (from python-dateutil>=2.8.2->pandas) (1.17.0)\n",
      "Note: you may need to restart the kernel to use updated packages.\n"
     ]
    }
   ],
   "source": [
    "%pip install psycopg2-binary pandas faker"
   ]
  },
  {
   "cell_type": "markdown",
   "id": "35c7ee60",
   "metadata": {},
   "source": [
    "`1 -- `\n",
    "- Create a free SQL Database\n",
    "- Create a table named employees with the following columns:\n",
    "    - employee_id (integer, primary key)\n",
    "    - name (string)\n",
    "    - position (string, IT-related job titles)\n",
    "    - start_date (date, between 2015 and 2024)\n",
    "    - salary (integer, $60,000–$200,000)`\n",
    "\n"
   ]
  },
  {
   "cell_type": "markdown",
   "id": "a31cd953",
   "metadata": {},
   "source": [
    "I have set up a Postgres database and also I have created the SQL table using the below SQL query\n",
    "\n",
    "```SQL\n",
    "CREATE TABLE employees (\n",
    "  employee_id SERIAL PRIMARY KEY,\n",
    "  name VARCHAR(50),\n",
    "  position VARCHAR(50),\n",
    "  start_date DATE,\n",
    "  salary INTEGER\n",
    ");"
   ]
  }
 ],
 "metadata": {
  "kernelspec": {
   "display_name": ".venv",
   "language": "python",
   "name": "python3"
  },
  "language_info": {
   "codemirror_mode": {
    "name": "ipython",
    "version": 3
   },
   "file_extension": ".py",
   "mimetype": "text/x-python",
   "name": "python",
   "nbconvert_exporter": "python",
   "pygments_lexer": "ipython3",
   "version": "3.13.3"
  }
 },
 "nbformat": 4,
 "nbformat_minor": 5
}
