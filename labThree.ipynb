{
 "cells": [
  {
   "cell_type": "markdown",
   "id": "7dde5cb2",
   "metadata": {},
   "source": [
    "# **`Lab3 - Data Engineering & EDA with Python, SQL, and Pandas`**\n",
    "\n",
    "##### **Name** - Manu Mathew\n",
    "##### **CourseID** - PROG8245\n",
    "##### **Course** - Machine Learning Programming\n",
    "##### **Student ID** - 8990691\n",
    "\n",
    "---"
   ]
  },
  {
   "cell_type": "markdown",
   "id": "f631bbfb",
   "metadata": {},
   "source": [
    "**Install required packages**"
   ]
  },
  {
   "cell_type": "code",
   "execution_count": 2,
   "id": "9d25a06d",
   "metadata": {},
   "outputs": [
    {
     "name": "stdout",
     "output_type": "stream",
     "text": [
      "Requirement already satisfied: psycopg2-binary in ./.venv/lib/python3.13/site-packages (2.9.10)\n",
      "Requirement already satisfied: pandas in ./.venv/lib/python3.13/site-packages (2.2.3)\n",
      "Requirement already satisfied: faker in ./.venv/lib/python3.13/site-packages (37.3.0)\n",
      "Requirement already satisfied: numpy>=1.26.0 in ./.venv/lib/python3.13/site-packages (from pandas) (2.2.6)\n",
      "Requirement already satisfied: python-dateutil>=2.8.2 in ./.venv/lib/python3.13/site-packages (from pandas) (2.9.0.post0)\n",
      "Requirement already satisfied: pytz>=2020.1 in ./.venv/lib/python3.13/site-packages (from pandas) (2025.2)\n",
      "Requirement already satisfied: tzdata>=2022.7 in ./.venv/lib/python3.13/site-packages (from pandas) (2025.2)\n",
      "Requirement already satisfied: six>=1.5 in ./.venv/lib/python3.13/site-packages (from python-dateutil>=2.8.2->pandas) (1.17.0)\n",
      "Note: you may need to restart the kernel to use updated packages.\n"
     ]
    }
   ],
   "source": [
    "%pip install psycopg2-binary pandas faker"
   ]
  },
  {
   "cell_type": "markdown",
   "id": "35c7ee60",
   "metadata": {},
   "source": [
    "`1 -- `\n",
    "- Create a free SQL Database\n",
    "- Create a table named employees with the following columns:\n",
    "    - employee_id (integer, primary key)\n",
    "    - name (string)\n",
    "    - position (string, IT-related job titles)\n",
    "    - start_date (date, between 2015 and 2024)\n",
    "    - salary (integer, $60,000–$200,000)`\n",
    "\n"
   ]
  },
  {
   "cell_type": "markdown",
   "id": "a31cd953",
   "metadata": {},
   "source": [
    "I have set up a Postgres database and also I have created the SQL table using the below SQL query\n",
    "\n",
    "```SQL\n",
    "CREATE TABLE employees (\n",
    "  employee_id SERIAL PRIMARY KEY,\n",
    "  name VARCHAR(50),\n",
    "  position VARCHAR(50),\n",
    "  start_date DATE,\n",
    "  salary INTEGER\n",
    ");"
   ]
  },
  {
   "cell_type": "markdown",
   "id": "af820c3c",
   "metadata": {},
   "source": [
    "**Adding the imports**"
   ]
  },
  {
   "cell_type": "code",
   "execution_count": 3,
   "id": "1b4717da",
   "metadata": {},
   "outputs": [],
   "source": [
    "import random\n",
    "from faker import Faker\n",
    "from datetime import date"
   ]
  },
  {
   "cell_type": "markdown",
   "id": "74c0f6a7",
   "metadata": {},
   "source": [
    "`2 --`\n",
    "- Generate & Populate Data\n",
    "    - Generate at least 50 synthetic records using Python and the Faker library.\n",
    "    - Insert the data into your cloud database."
   ]
  },
  {
   "cell_type": "code",
   "execution_count": null,
   "id": "eab8a84b",
   "metadata": {},
   "outputs": [
    {
     "name": "stdout",
     "output_type": "stream",
     "text": [
      "INSERT INTO employees (name, position, start_date, salary) VALUES('Zachary Rogers MD', 'SysAdmin', '2024-01-31', 164268);\n",
      "INSERT INTO employees (name, position, start_date, salary) VALUES('Francis Castaneda', 'Data Analyst', '2023-04-09', 92677);\n",
      "INSERT INTO employees (name, position, start_date, salary) VALUES('Oscar Davis', 'Data Scientist', '2019-02-12', 114123);\n",
      "INSERT INTO employees (name, position, start_date, salary) VALUES('David Brown', 'Software Engineer', '2021-05-11', 183617);\n",
      "INSERT INTO employees (name, position, start_date, salary) VALUES('Corey Campbell', 'SysAdmin', '2023-07-04', 64790);\n",
      "INSERT INTO employees (name, position, start_date, salary) VALUES('Dr. Kyle Martinez DDS', 'ML Engineer', '2017-01-11', 86908);\n",
      "INSERT INTO employees (name, position, start_date, salary) VALUES('Kristin Russell', 'ML Engineer', '2016-12-07', 68990);\n",
      "INSERT INTO employees (name, position, start_date, salary) VALUES('Patricia Gates', 'Backend Developer', '2018-04-02', 140714);\n",
      "INSERT INTO employees (name, position, start_date, salary) VALUES('Kelly Carlson', 'SysAdmin', '2019-12-18', 107035);\n",
      "INSERT INTO employees (name, position, start_date, salary) VALUES('Samantha Hardin', 'DevOps Engineer', '2016-11-04', 198378);\n",
      "INSERT INTO employees (name, position, start_date, salary) VALUES('Brian Newman', 'ML Engineer', '2019-09-07', 94029);\n",
      "INSERT INTO employees (name, position, start_date, salary) VALUES('Mikayla Dickerson', 'ML Engineer', '2020-06-20', 171252);\n",
      "INSERT INTO employees (name, position, start_date, salary) VALUES('Robert Wilson', 'Backend Developer', '2016-11-27', 96765);\n",
      "INSERT INTO employees (name, position, start_date, salary) VALUES('Zachary Taylor', 'SysAdmin', '2019-03-19', 172969);\n",
      "INSERT INTO employees (name, position, start_date, salary) VALUES('Brooke Rice', 'SysAdmin', '2015-06-06', 114391);\n",
      "INSERT INTO employees (name, position, start_date, salary) VALUES('Ashley Arnold', 'SysAdmin', '2021-02-24', 85972);\n",
      "INSERT INTO employees (name, position, start_date, salary) VALUES('Amber Gould', 'Data Scientist', '2015-01-22', 142882);\n",
      "INSERT INTO employees (name, position, start_date, salary) VALUES('Christopher Diaz', 'Data Analyst', '2016-06-05', 187503);\n",
      "INSERT INTO employees (name, position, start_date, salary) VALUES('Travis Marshall', 'Software Engineer', '2015-11-19', 122830);\n",
      "INSERT INTO employees (name, position, start_date, salary) VALUES('Beth Hart', 'Cloud Architect', '2017-05-28', 156517);\n",
      "INSERT INTO employees (name, position, start_date, salary) VALUES('Brian Rodriguez', 'DevOps Engineer', '2020-10-29', 108627);\n",
      "INSERT INTO employees (name, position, start_date, salary) VALUES('Karen Nichols', 'Cloud Architect', '2020-05-18', 126015);\n",
      "INSERT INTO employees (name, position, start_date, salary) VALUES('Alan Garcia', 'DevOps Engineer', '2020-09-04', 124212);\n",
      "INSERT INTO employees (name, position, start_date, salary) VALUES('Ryan Winters', 'Data Analyst', '2018-02-25', 147986);\n",
      "INSERT INTO employees (name, position, start_date, salary) VALUES('Shelby Taylor', 'Data Scientist', '2016-02-11', 180404);\n",
      "INSERT INTO employees (name, position, start_date, salary) VALUES('Elizabeth Smith', 'Cloud Architect', '2019-09-21', 60200);\n",
      "INSERT INTO employees (name, position, start_date, salary) VALUES('Marvin Wood', 'DevOps Engineer', '2016-05-05', 184470);\n",
      "INSERT INTO employees (name, position, start_date, salary) VALUES('Sharon Hall', 'SysAdmin', '2016-11-13', 111090);\n",
      "INSERT INTO employees (name, position, start_date, salary) VALUES('Tracie Salazar', 'DevOps Engineer', '2019-06-11', 194233);\n",
      "INSERT INTO employees (name, position, start_date, salary) VALUES('Chris Smith', 'ML Engineer', '2022-05-28', 161000);\n",
      "INSERT INTO employees (name, position, start_date, salary) VALUES('Todd Anderson', 'Data Scientist', '2020-10-01', 104828);\n",
      "INSERT INTO employees (name, position, start_date, salary) VALUES('Brandi Casey', 'Backend Developer', '2015-09-11', 148238);\n",
      "INSERT INTO employees (name, position, start_date, salary) VALUES('Debra Davies', 'Frontend Developer', '2015-04-19', 83147);\n",
      "INSERT INTO employees (name, position, start_date, salary) VALUES('Samantha Oliver DDS', 'Data Scientist', '2018-07-22', 96135);\n",
      "INSERT INTO employees (name, position, start_date, salary) VALUES('Christina Floyd', 'Frontend Developer', '2022-02-17', 145760);\n",
      "INSERT INTO employees (name, position, start_date, salary) VALUES('Luke Griffin', 'ML Engineer', '2019-11-27', 88537);\n",
      "INSERT INTO employees (name, position, start_date, salary) VALUES('Sara Stewart', 'Data Analyst', '2023-12-05', 72123);\n",
      "INSERT INTO employees (name, position, start_date, salary) VALUES('Shirley Hart', 'Cloud Architect', '2015-10-19', 111158);\n",
      "INSERT INTO employees (name, position, start_date, salary) VALUES('Cynthia Reyes', 'Backend Developer', '2019-11-27', 102843);\n",
      "INSERT INTO employees (name, position, start_date, salary) VALUES('Adam Johnson', 'Data Analyst', '2021-02-23', 69521);\n",
      "INSERT INTO employees (name, position, start_date, salary) VALUES('Christina Gardner', 'DevOps Engineer', '2022-03-25', 172320);\n",
      "INSERT INTO employees (name, position, start_date, salary) VALUES('Anna Pittman', 'Frontend Developer', '2023-12-04', 198157);\n",
      "INSERT INTO employees (name, position, start_date, salary) VALUES('Juan Brown', 'Backend Developer', '2015-06-21', 151509);\n",
      "INSERT INTO employees (name, position, start_date, salary) VALUES('Brian Levine', 'Cloud Architect', '2015-06-08', 111293);\n",
      "INSERT INTO employees (name, position, start_date, salary) VALUES('Allison Miller', 'SysAdmin', '2023-11-11', 188380);\n",
      "INSERT INTO employees (name, position, start_date, salary) VALUES('Sherry Holt', 'Data Analyst', '2018-09-01', 169029);\n",
      "INSERT INTO employees (name, position, start_date, salary) VALUES('Larry Douglas', 'Data Analyst', '2021-02-05', 136119);\n",
      "INSERT INTO employees (name, position, start_date, salary) VALUES('Terry Harris', 'Cloud Architect', '2023-03-11', 190637);\n",
      "INSERT INTO employees (name, position, start_date, salary) VALUES('Seth Chang', 'Backend Developer', '2018-08-18', 107043);\n",
      "INSERT INTO employees (name, position, start_date, salary) VALUES('Deborah Ford', 'Frontend Developer', '2020-10-04', 130907);\n",
      "INSERT INTO employees (name, position, start_date, salary) VALUES('Jennifer Carpenter', 'Software Engineer', '2018-02-27', 105067);\n",
      "INSERT INTO employees (name, position, start_date, salary) VALUES('Andrea Jones', 'DevOps Engineer', '2019-04-29', 137313);\n",
      "INSERT INTO employees (name, position, start_date, salary) VALUES('Abigail Martinez', 'Data Scientist', '2023-05-03', 151596);\n",
      "INSERT INTO employees (name, position, start_date, salary) VALUES('Ronald Peterson', 'Data Scientist', '2020-10-20', 140493);\n",
      "INSERT INTO employees (name, position, start_date, salary) VALUES('Kyle Leach', 'ML Engineer', '2022-10-28', 197529);\n",
      "INSERT INTO employees (name, position, start_date, salary) VALUES('Reginald Howe', 'Frontend Developer', '2017-08-02', 87961);\n",
      "INSERT INTO employees (name, position, start_date, salary) VALUES('Adrian Warren', 'ML Engineer', '2022-09-10', 118681);\n",
      "INSERT INTO employees (name, position, start_date, salary) VALUES('Craig Wagner', 'QA Engineer', '2015-09-06', 151246);\n",
      "INSERT INTO employees (name, position, start_date, salary) VALUES('Brian Wagner', 'SysAdmin', '2021-01-09', 120656);\n",
      "INSERT INTO employees (name, position, start_date, salary) VALUES('Maxwell Richardson', 'Data Scientist', '2020-10-10', 134820);\n",
      "INSERT INTO employees (name, position, start_date, salary) VALUES('Marissa Thompson', 'QA Engineer', '2024-04-04', 115939);\n",
      "INSERT INTO employees (name, position, start_date, salary) VALUES('Lisa Arias', 'Cloud Architect', '2015-09-15', 113822);\n",
      "INSERT INTO employees (name, position, start_date, salary) VALUES('Tyler Fox', 'Software Engineer', '2017-01-03', 164189);\n",
      "INSERT INTO employees (name, position, start_date, salary) VALUES('Todd Wong', 'SysAdmin', '2021-07-25', 143466);\n",
      "INSERT INTO employees (name, position, start_date, salary) VALUES('Christine Robinson', 'Data Scientist', '2019-12-16', 160328);\n",
      "INSERT INTO employees (name, position, start_date, salary) VALUES('Mary Watson', 'Data Scientist', '2020-12-19', 140817);\n",
      "INSERT INTO employees (name, position, start_date, salary) VALUES('Nicole Strong', 'Software Engineer', '2023-08-30', 77613);\n",
      "INSERT INTO employees (name, position, start_date, salary) VALUES('Patricia Taylor', 'Data Scientist', '2018-02-26', 174111);\n",
      "INSERT INTO employees (name, position, start_date, salary) VALUES('Oscar Huffman', 'Cloud Architect', '2016-08-02', 111435);\n",
      "INSERT INTO employees (name, position, start_date, salary) VALUES('Shannon Young', 'QA Engineer', '2020-02-18', 92480);\n",
      "INSERT INTO employees (name, position, start_date, salary) VALUES('Melinda Spencer', 'Frontend Developer', '2018-05-16', 188853);\n",
      "INSERT INTO employees (name, position, start_date, salary) VALUES('Brian Morgan', 'QA Engineer', '2021-02-22', 196998);\n",
      "INSERT INTO employees (name, position, start_date, salary) VALUES('Jeremy Stone', 'Software Engineer', '2021-12-10', 168733);\n",
      "INSERT INTO employees (name, position, start_date, salary) VALUES('Brandon Flores', 'Frontend Developer', '2015-09-19', 176089);\n",
      "INSERT INTO employees (name, position, start_date, salary) VALUES('Justin Brown', 'Data Scientist', '2018-11-03', 93324);\n",
      "INSERT INTO employees (name, position, start_date, salary) VALUES('Barbara Williams', 'Backend Developer', '2020-05-19', 194228);\n",
      "INSERT INTO employees (name, position, start_date, salary) VALUES('Vanessa Williams', 'Frontend Developer', '2019-08-11', 145426);\n",
      "INSERT INTO employees (name, position, start_date, salary) VALUES('Ronald Pittman', 'Data Scientist', '2019-04-14', 116305);\n",
      "INSERT INTO employees (name, position, start_date, salary) VALUES('Daniel Crane', 'Data Scientist', '2019-12-21', 119146);\n",
      "INSERT INTO employees (name, position, start_date, salary) VALUES('Luke Hoffman', 'Software Engineer', '2022-09-13', 64242);\n",
      "INSERT INTO employees (name, position, start_date, salary) VALUES('Deborah Cook', 'SysAdmin', '2022-10-27', 131198);\n",
      "INSERT INTO employees (name, position, start_date, salary) VALUES('Brian Martin', 'Software Engineer', '2021-11-30', 61762);\n",
      "INSERT INTO employees (name, position, start_date, salary) VALUES('Mitchell Coleman', 'SysAdmin', '2019-08-21', 188117);\n",
      "INSERT INTO employees (name, position, start_date, salary) VALUES('Eddie Swanson', 'SysAdmin', '2022-08-16', 74022);\n",
      "INSERT INTO employees (name, position, start_date, salary) VALUES('John Gibson', 'SysAdmin', '2016-04-24', 97128);\n",
      "INSERT INTO employees (name, position, start_date, salary) VALUES('James Eaton', 'Data Analyst', '2021-11-15', 60274);\n",
      "INSERT INTO employees (name, position, start_date, salary) VALUES('Brian Hartman', 'Data Scientist', '2024-02-29', 69043);\n",
      "INSERT INTO employees (name, position, start_date, salary) VALUES('Brandi Miller', 'Cloud Architect', '2021-02-07', 119093);\n",
      "INSERT INTO employees (name, position, start_date, salary) VALUES('Allen Velez', 'Data Analyst', '2022-06-01', 89750);\n",
      "INSERT INTO employees (name, position, start_date, salary) VALUES('Jordan Cantrell', 'DevOps Engineer', '2023-04-14', 69844);\n",
      "INSERT INTO employees (name, position, start_date, salary) VALUES('Patricia Miller', 'Data Scientist', '2016-08-28', 164238);\n",
      "INSERT INTO employees (name, position, start_date, salary) VALUES('Joshua Taylor', 'Backend Developer', '2019-03-13', 127329);\n",
      "INSERT INTO employees (name, position, start_date, salary) VALUES('Nicholas Mendoza', 'Software Engineer', '2023-10-19', 196786);\n",
      "INSERT INTO employees (name, position, start_date, salary) VALUES('Emily Woods', 'DevOps Engineer', '2019-05-28', 160402);\n",
      "INSERT INTO employees (name, position, start_date, salary) VALUES('Veronica Fischer', 'Cloud Architect', '2020-06-23', 157335);\n",
      "INSERT INTO employees (name, position, start_date, salary) VALUES('Roger Newman', 'Cloud Architect', '2018-08-15', 69305);\n",
      "INSERT INTO employees (name, position, start_date, salary) VALUES('Allison Mcgee', 'QA Engineer', '2015-12-25', 152351);\n",
      "INSERT INTO employees (name, position, start_date, salary) VALUES('James Becker', 'Data Analyst', '2022-12-29', 106667);\n",
      "INSERT INTO employees (name, position, start_date, salary) VALUES('Richard Hicks', 'Data Scientist', '2020-02-26', 156175);\n",
      "INSERT INTO employees (name, position, start_date, salary) VALUES('Debra Johnson', 'SysAdmin', '2015-05-15', 176536);\n"
     ]
    }
   ],
   "source": [
    "# Initializes faker object from the Faker library\n",
    "fake = Faker()\n",
    "# Position list that can be assigned randomly to employees\n",
    "positions = ['Software Engineer', 'Data Analyst', 'DevOps Engineer', 'ML Engineer', 'QA Engineer','Backend Developer', 'Frontend Developer', 'Cloud Architect', 'SysAdmin', 'Data Scientist']\n",
    "# Running a loop for 100 iterations\n",
    "for i in range(100):\n",
    "    # Replace single quote with double quotes\n",
    "    name = fake.name().replace(\"'\", \"''\")\n",
    "    # Select random position for the employee\n",
    "    position = random.choice(positions)\n",
    "    # Select any date in the year between 2015 and 2024\n",
    "    start_date = fake.date_between(start_date=date(2015,1,1), end_date=date(2024,6,1))\n",
    "    # Select an integer between 60000 and 200000\n",
    "    salary = random.randint(60000, 200000)\n",
    "    # print 100 SQL insert queries\n",
    "    print(f\"INSERT INTO employees (name, position, start_date, salary) VALUES('{name}', '{position}', '{start_date}', {salary});\")"
   ]
  }
 ],
 "metadata": {
  "kernelspec": {
   "display_name": ".venv",
   "language": "python",
   "name": "python3"
  },
  "language_info": {
   "codemirror_mode": {
    "name": "ipython",
    "version": 3
   },
   "file_extension": ".py",
   "mimetype": "text/x-python",
   "name": "python",
   "nbconvert_exporter": "python",
   "pygments_lexer": "ipython3",
   "version": "3.13.3"
  }
 },
 "nbformat": 4,
 "nbformat_minor": 5
}
